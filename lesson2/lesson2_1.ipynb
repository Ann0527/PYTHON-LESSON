{
  "nbformat": 4,
  "nbformat_minor": 0,
  "metadata": {
    "colab": {
      "provenance": [],
      "include_colab_link": true
    },
    "kernelspec": {
      "name": "python3",
      "display_name": "Python 3"
    },
    "language_info": {
      "name": "python"
    }
  },
  "cells": [
    {
      "cell_type": "markdown",
      "metadata": {
        "id": "view-in-github",
        "colab_type": "text"
      },
      "source": [
        "<a href=\"https://colab.research.google.com/github/Ann0527/PYTHON-LESSON/blob/main/lesson2/lesson2_1.ipynb\" target=\"_parent\"><img src=\"https://colab.research.google.com/assets/colab-badge.svg\" alt=\"Open In Colab\"/></a>"
      ]
    },
    {
      "cell_type": "code",
      "source": [
        "2 + 3 * 4"
      ],
      "metadata": {
        "id": "gg7XzNjovSJ3",
        "outputId": "2cebe9b6-c3da-4266-ef2b-2b3807718619",
        "colab": {
          "base_uri": "https://localhost:8080/"
        }
      },
      "execution_count": null,
      "outputs": [
        {
          "output_type": "execute_result",
          "data": {
            "text/plain": [
              "14"
            ]
          },
          "metadata": {},
          "execution_count": 1
        }
      ]
    },
    {
      "cell_type": "code",
      "source": [
        "(2 + 3) * 4"
      ],
      "metadata": {
        "id": "rRTwO3_-vcye",
        "outputId": "9257f150-6898-4b57-b5d6-beb3dbfd4e08",
        "colab": {
          "base_uri": "https://localhost:8080/"
        }
      },
      "execution_count": null,
      "outputs": [
        {
          "output_type": "execute_result",
          "data": {
            "text/plain": [
              "20"
            ]
          },
          "metadata": {},
          "execution_count": 2
        }
      ]
    },
    {
      "cell_type": "markdown",
      "source": [
        "##會做6件事\n",
        "###運算式->會傳出值\n",
        "###運算子的優先順序"
      ],
      "metadata": {
        "id": "kYLkmc-Ivkhd"
      }
    },
    {
      "cell_type": "code",
      "source": [
        "2 * (1 + 2) ** 2 - 2 ** 2 * 2"
      ],
      "metadata": {
        "id": "gz5E7waRv7m1",
        "outputId": "705a00bb-b8dd-4846-db33-3e39bc3becd0",
        "colab": {
          "base_uri": "https://localhost:8080/"
        }
      },
      "execution_count": null,
      "outputs": [
        {
          "output_type": "execute_result",
          "data": {
            "text/plain": [
              "10"
            ]
          },
          "metadata": {},
          "execution_count": 3
        }
      ]
    },
    {
      "cell_type": "markdown",
      "source": [
        "## 敍述式\n",
        "\n",
        "## 建立變數\n",
        "\n"
      ],
      "metadata": {
        "id": "SNoXxmP60nKH"
      }
    },
    {
      "cell_type": "code",
      "source": [
        "n = 2 * (1 + 2) ** 2 - 2 ** 2 * 2\n",
        "\n",
        "n = n * 10\n",
        "\n",
        "n"
      ],
      "metadata": {
        "colab": {
          "base_uri": "https://localhost:8080/"
        },
        "id": "e-CvrZ3Tz2_2",
        "outputId": "083cf347-722a-488c-a307-ad0755b8d18d"
      },
      "execution_count": null,
      "outputs": [
        {
          "output_type": "execute_result",
          "data": {
            "text/plain": [
              "100"
            ]
          },
          "metadata": {},
          "execution_count": 1
        }
      ]
    },
    {
      "cell_type": "code",
      "source": [
        "n = 2 * (1 + 2) ** 2 - 2 ** 2 * 2\n",
        "\n",
        "n *= 10\n",
        "\n",
        "print(n)"
      ],
      "metadata": {
        "id": "LVyzCs4i9VsW"
      },
      "execution_count": null,
      "outputs": []
    },
    {
      "cell_type": "markdown",
      "source": [
        "## input()使用"
      ],
      "metadata": {
        "id": "EB2aJpH09hzt"
      }
    },
    {
      "cell_type": "code",
      "source": [
        "name = input(\"請輸入您的名字\")\n",
        "print (\"您的名字:\" , name)"
      ],
      "metadata": {
        "id": "3P-HItB99rbN",
        "outputId": "31b8ec47-72c9-4643-eb59-6800e78197af",
        "colab": {
          "base_uri": "https://localhost:8080/"
        }
      },
      "execution_count": null,
      "outputs": [
        {
          "output_type": "stream",
          "name": "stdout",
          "text": [
            "請輸入您的名字Ann\n",
            "您的名字: Ann\n"
          ]
        }
      ]
    },
    {
      "cell_type": "markdown",
      "source": [
        "## 只有數值型別可以運算"
      ],
      "metadata": {
        "id": "-TGrQu4FJ_Bm"
      }
    },
    {
      "cell_type": "code",
      "source": [
        "5 + 5\n",
        "5.0 + 5.0\n",
        "5 + 5.0"
      ],
      "metadata": {
        "id": "5V0dTRjcKGBW",
        "outputId": "2555365e-4fbe-40a1-ee03-fd790273f690",
        "colab": {
          "base_uri": "https://localhost:8080/"
        }
      },
      "execution_count": 4,
      "outputs": [
        {
          "output_type": "execute_result",
          "data": {
            "text/plain": [
              "10.0"
            ]
          },
          "metadata": {},
          "execution_count": 4
        }
      ]
    },
    {
      "cell_type": "markdown",
      "source": [
        "數值和字串無法數學運算"
      ],
      "metadata": {
        "id": "Pm5Ystg7KRq9"
      }
    },
    {
      "cell_type": "code",
      "source": [
        "5 + \"5\""
      ],
      "metadata": {
        "id": "-lh3oiYiKYt1",
        "outputId": "c7f4ab99-e2a8-4724-fcef-4e2ed1f5640c",
        "colab": {
          "base_uri": "https://localhost:8080/",
          "height": 141
        }
      },
      "execution_count": 5,
      "outputs": [
        {
          "output_type": "error",
          "ename": "TypeError",
          "evalue": "unsupported operand type(s) for +: 'int' and 'str'",
          "traceback": [
            "\u001b[0;31m---------------------------------------------------------------------------\u001b[0m",
            "\u001b[0;31mTypeError\u001b[0m                                 Traceback (most recent call last)",
            "\u001b[0;32m<ipython-input-5-b265071c056c>\u001b[0m in \u001b[0;36m<cell line: 0>\u001b[0;34m()\u001b[0m\n\u001b[0;32m----> 1\u001b[0;31m \u001b[0;36m5\u001b[0m \u001b[0;34m+\u001b[0m \u001b[0;34m\"5\"\u001b[0m\u001b[0;34m\u001b[0m\u001b[0;34m\u001b[0m\u001b[0m\n\u001b[0m",
            "\u001b[0;31mTypeError\u001b[0m: unsupported operand type(s) for +: 'int' and 'str'"
          ]
        }
      ]
    },
    {
      "cell_type": "markdown",
      "source": [
        "字串和字串可以相加"
      ],
      "metadata": {
        "id": "MjWQtzo1LK32"
      }
    },
    {
      "cell_type": "code",
      "source": [
        "\"5\" + \"5\""
      ],
      "metadata": {
        "id": "gzwjgZs6Kmhd",
        "outputId": "7000bbf0-89e9-4bcf-9b0c-5a2dd91a358a",
        "colab": {
          "base_uri": "https://localhost:8080/",
          "height": 36
        }
      },
      "execution_count": 6,
      "outputs": [
        {
          "output_type": "execute_result",
          "data": {
            "text/plain": [
              "'55'"
            ],
            "application/vnd.google.colaboratory.intrinsic+json": {
              "type": "string"
            }
          },
          "metadata": {},
          "execution_count": 6
        }
      ]
    },
    {
      "cell_type": "markdown",
      "source": [
        "字串和字串可以相乘"
      ],
      "metadata": {
        "id": "F1OYcRBFKxdm"
      }
    },
    {
      "cell_type": "code",
      "source": [
        "\"=\" * 10"
      ],
      "metadata": {
        "id": "FqgfS0ssK6id",
        "outputId": "0f8ad25b-613f-49e3-8285-3fbebf1fddae",
        "colab": {
          "base_uri": "https://localhost:8080/",
          "height": 36
        }
      },
      "execution_count": 7,
      "outputs": [
        {
          "output_type": "execute_result",
          "data": {
            "text/plain": [
              "'=========='"
            ],
            "application/vnd.google.colaboratory.intrinsic+json": {
              "type": "string"
            }
          },
          "metadata": {},
          "execution_count": 7
        }
      ]
    },
    {
      "cell_type": "markdown",
      "source": [
        "暫時轉換型別"
      ],
      "metadata": {
        "id": "V9Qj09gPLWNu"
      }
    },
    {
      "cell_type": "code",
      "source": [
        "5 + float(\"5\")"
      ],
      "metadata": {
        "id": "0IahIP27Lb--",
        "outputId": "91aec459-8f72-4587-bcf0-65191f8e529d",
        "colab": {
          "base_uri": "https://localhost:8080/"
        }
      },
      "execution_count": 8,
      "outputs": [
        {
          "output_type": "execute_result",
          "data": {
            "text/plain": [
              "10.0"
            ]
          },
          "metadata": {},
          "execution_count": 8
        }
      ]
    }
  ]
}