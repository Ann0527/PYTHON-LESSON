{
  "nbformat": 4,
  "nbformat_minor": 0,
  "metadata": {
    "colab": {
      "provenance": [],
      "include_colab_link": true
    },
    "kernelspec": {
      "name": "python3",
      "display_name": "Python 3"
    },
    "language_info": {
      "name": "python"
    }
  },
  "cells": [
    {
      "cell_type": "markdown",
      "metadata": {
        "id": "view-in-github",
        "colab_type": "text"
      },
      "source": [
        "<a href=\"https://colab.research.google.com/github/Ann0527/PYTHON-LESSON/blob/main/lesson2/lesson2_1.ipynb\" target=\"_parent\"><img src=\"https://colab.research.google.com/assets/colab-badge.svg\" alt=\"Open In Colab\"/></a>"
      ]
    },
    {
      "cell_type": "code",
      "source": [
        "2 + 3 * 4"
      ],
      "metadata": {
        "id": "gg7XzNjovSJ3",
        "outputId": "2cebe9b6-c3da-4266-ef2b-2b3807718619",
        "colab": {
          "base_uri": "https://localhost:8080/"
        }
      },
      "execution_count": null,
      "outputs": [
        {
          "output_type": "execute_result",
          "data": {
            "text/plain": [
              "14"
            ]
          },
          "metadata": {},
          "execution_count": 1
        }
      ]
    },
    {
      "cell_type": "code",
      "source": [
        "(2 + 3) * 4"
      ],
      "metadata": {
        "id": "rRTwO3_-vcye",
        "outputId": "9257f150-6898-4b57-b5d6-beb3dbfd4e08",
        "colab": {
          "base_uri": "https://localhost:8080/"
        }
      },
      "execution_count": null,
      "outputs": [
        {
          "output_type": "execute_result",
          "data": {
            "text/plain": [
              "20"
            ]
          },
          "metadata": {},
          "execution_count": 2
        }
      ]
    },
    {
      "cell_type": "markdown",
      "source": [
        "##會做6件事\n",
        "###運算式->會傳出值\n",
        "###運算子的優先順序"
      ],
      "metadata": {
        "id": "kYLkmc-Ivkhd"
      }
    },
    {
      "cell_type": "code",
      "source": [
        "2 * (1 + 2) ** 2 - 2 ** 2 * 2"
      ],
      "metadata": {
        "id": "gz5E7waRv7m1",
        "outputId": "705a00bb-b8dd-4846-db33-3e39bc3becd0",
        "colab": {
          "base_uri": "https://localhost:8080/"
        }
      },
      "execution_count": null,
      "outputs": [
        {
          "output_type": "execute_result",
          "data": {
            "text/plain": [
              "10"
            ]
          },
          "metadata": {},
          "execution_count": 3
        }
      ]
    },
    {
      "cell_type": "markdown",
      "source": [
        "## 敍述式\n",
        "\n",
        "## 建立變數\n",
        "\n"
      ],
      "metadata": {
        "id": "SNoXxmP60nKH"
      }
    },
    {
      "cell_type": "code",
      "source": [
        "n = 2 * (1 + 2) ** 2 - 2 ** 2 * 2\n",
        "\n",
        "n = n * 10\n",
        "\n",
        "n"
      ],
      "metadata": {
        "colab": {
          "base_uri": "https://localhost:8080/"
        },
        "id": "e-CvrZ3Tz2_2",
        "outputId": "083cf347-722a-488c-a307-ad0755b8d18d"
      },
      "execution_count": null,
      "outputs": [
        {
          "output_type": "execute_result",
          "data": {
            "text/plain": [
              "100"
            ]
          },
          "metadata": {},
          "execution_count": 1
        }
      ]
    },
    {
      "cell_type": "code",
      "source": [
        "n = 2 * (1 + 2) ** 2 - 2 ** 2 * 2\n",
        "\n",
        "n *= 10\n",
        "\n",
        "print(n)"
      ],
      "metadata": {
        "id": "LVyzCs4i9VsW"
      },
      "execution_count": null,
      "outputs": []
    },
    {
      "cell_type": "markdown",
      "source": [
        "## input()使用"
      ],
      "metadata": {
        "id": "EB2aJpH09hzt"
      }
    },
    {
      "cell_type": "code",
      "source": [
        "name = input(\"請輸入您的名字\")\n",
        "print (\"您的名字:\" , name)"
      ],
      "metadata": {
        "id": "3P-HItB99rbN",
        "outputId": "31b8ec47-72c9-4643-eb59-6800e78197af",
        "colab": {
          "base_uri": "https://localhost:8080/"
        }
      },
      "execution_count": 3,
      "outputs": [
        {
          "output_type": "stream",
          "name": "stdout",
          "text": [
            "請輸入您的名字Ann\n",
            "您的名字: Ann\n"
          ]
        }
      ]
    }
  ]
}