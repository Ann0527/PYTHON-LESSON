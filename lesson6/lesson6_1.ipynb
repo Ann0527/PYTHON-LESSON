{
 "cells": [
  {
   "cell_type": "markdown",
   "id": "919b4271",
   "metadata": {},
   "source": [
    "# 結構化專案程式\n",
    "- function"
   ]
  },
  {
   "cell_type": "code",
   "execution_count": 4,
   "id": "f6523505",
   "metadata": {},
   "outputs": [
    {
     "name": "stdout",
     "output_type": "stream",
     "text": [
      "hello\n"
     ]
    }
   ],
   "source": [
    "print(\"hello\")"
   ]
  },
  {
   "cell_type": "code",
   "execution_count": 5,
   "id": "b67b259a",
   "metadata": {},
   "outputs": [
    {
     "name": "stdout",
     "output_type": "stream",
     "text": [
      "Hello! function\n"
     ]
    }
   ],
   "source": [
    "print(\"Hello! function\")"
   ]
  }
 ],
 "metadata": {
  "kernelspec": {
   "display_name": "chihlee1",
   "language": "python",
   "name": "python3"
  },
  "language_info": {
   "codemirror_mode": {
    "name": "ipython",
    "version": 3
   },
   "file_extension": ".py",
   "mimetype": "text/x-python",
   "name": "python",
   "nbconvert_exporter": "python",
   "pygments_lexer": "ipython3",
   "version": "3.10.16"
  }
 },
 "nbformat": 4,
 "nbformat_minor": 5
}
