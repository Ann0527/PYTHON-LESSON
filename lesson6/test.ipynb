{
 "cells": [
  {
   "cell_type": "markdown",
   "id": "e3abe96b",
   "metadata": {},
   "source": [
    "# 測試\n",
    "- function"
   ]
  },
  {
   "cell_type": "code",
   "execution_count": 2,
   "id": "a958b029",
   "metadata": {},
   "outputs": [
    {
     "name": "stdout",
     "output_type": "stream",
     "text": [
      "Hi function\n"
     ]
    }
   ],
   "source": [
    "print(\"Hi function\")"
   ]
  }
 ],
 "metadata": {
  "kernelspec": {
   "display_name": "chihlee1",
   "language": "python",
   "name": "python3"
  },
  "language_info": {
   "codemirror_mode": {
    "name": "ipython",
    "version": 3
   },
   "file_extension": ".py",
   "mimetype": "text/x-python",
   "name": "python",
   "nbconvert_exporter": "python",
   "pygments_lexer": "ipython3",
   "version": "3.10.16"
  }
 },
 "nbformat": 4,
 "nbformat_minor": 5
}
