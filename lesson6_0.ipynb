{
 "cells": [
  {
   "cell_type": "markdown",
   "id": "5966bcfc",
   "metadata": {},
   "source": [
    "#測試lesson 6_0\n",
    "- Funcion"
   ]
  },
  {
   "cell_type": "code",
   "execution_count": 1,
   "id": "ef3d0343",
   "metadata": {},
   "outputs": [
    {
     "name": "stdout",
     "output_type": "stream",
     "text": [
      "test6_0\n"
     ]
    }
   ],
   "source": [
    "print(\"test6_0\")"
   ]
  }
 ],
 "metadata": {
  "kernelspec": {
   "display_name": "chihlee1",
   "language": "python",
   "name": "python3"
  },
  "language_info": {
   "codemirror_mode": {
    "name": "ipython",
    "version": 3
   },
   "file_extension": ".py",
   "mimetype": "text/x-python",
   "name": "python",
   "nbconvert_exporter": "python",
   "pygments_lexer": "ipython3",
   "version": "3.10.16"
  }
 },
 "nbformat": 4,
 "nbformat_minor": 5
}
